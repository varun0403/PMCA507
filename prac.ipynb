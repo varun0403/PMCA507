{
 "cells": [
  {
   "cell_type": "code",
   "execution_count": 38,
   "id": "b24ce5c9",
   "metadata": {},
   "outputs": [
    {
     "data": {
      "text/plain": [
       "27"
      ]
     },
     "execution_count": 38,
     "metadata": {},
     "output_type": "execute_result"
    }
   ],
   "source": [
    "data = [13,15,16,16,19,20,20,21,22,22,25,25,25,25,30,33,33,35,35,35,35,36,40,45,46,52,70]\n",
    "n = len(data)\n",
    "n"
   ]
  },
  {
   "cell_type": "code",
   "execution_count": 40,
   "id": "384be8d3",
   "metadata": {},
   "outputs": [
    {
     "data": {
      "text/plain": [
       "29.96"
      ]
     },
     "execution_count": 40,
     "metadata": {},
     "output_type": "execute_result"
    }
   ],
   "source": [
    "mean = round(sum(data)/len(data),2)\n",
    "mean"
   ]
  },
  {
   "cell_type": "code",
   "execution_count": 42,
   "id": "3f72eac4",
   "metadata": {},
   "outputs": [
    {
     "data": {
      "text/plain": [
       "14"
      ]
     },
     "execution_count": 42,
     "metadata": {},
     "output_type": "execute_result"
    }
   ],
   "source": [
    "median_index = round(len(data)/2) #temp\n",
    "median = data[median_index]\n",
    "median_index"
   ]
  },
  {
   "cell_type": "code",
   "execution_count": 50,
   "id": "e1e2704e",
   "metadata": {},
   "outputs": [
    {
     "name": "stdout",
     "output_type": "stream",
     "text": [
      "20 25 35\n"
     ]
    }
   ],
   "source": [
    "q1 = int(((n+1)/4)-1)\n",
    "q2 = int(((n+1)/2)-1)\n",
    "q3 = round(3 * ((n+1)/4)-1)\n",
    "print(data[q1],data[q2],data[q3])"
   ]
  },
  {
   "cell_type": "code",
   "execution_count": 65,
   "id": "8a8aa381",
   "metadata": {},
   "outputs": [
    {
     "data": {
      "text/plain": [
       "[25, 35]"
      ]
     },
     "execution_count": 65,
     "metadata": {},
     "output_type": "execute_result"
    }
   ],
   "source": [
    "freq = {}\n",
    "for i in data:\n",
    "    if i in freq.keys():\n",
    "        freq[i] += 1\n",
    "    else:\n",
    "        freq[i] = 1\n",
    "\n",
    "max_mode = max(freq.values())\n",
    "mode = [i for i,j in freq.items() if j==max_mode]\n",
    "mode"
   ]
  },
  {
   "cell_type": "code",
   "execution_count": 63,
   "id": "a913d540",
   "metadata": {},
   "outputs": [
    {
     "data": {
      "text/plain": [
       "57"
      ]
     },
     "execution_count": 63,
     "metadata": {},
     "output_type": "execute_result"
    }
   ],
   "source": [
    "mid_range = (max(data) + min(data)/2)\n",
    "mid_range"
   ]
  },
  {
   "cell_type": "code",
   "execution_count": 69,
   "id": "4e4cade0",
   "metadata": {},
   "outputs": [
    {
     "data": {
      "text/plain": [
       "12.700194224236625"
      ]
     },
     "execution_count": 69,
     "metadata": {},
     "output_type": "execute_result"
    }
   ],
   "source": [
    "#standard deviation\n",
    "temp = 0\n",
    "for x in data:\n",
    "    temp += ((x-mean)**2)\n",
    "    \n",
    "temp = temp/n\n",
    "sd = temp**0.5\n",
    "sd"
   ]
  },
  {
   "cell_type": "code",
   "execution_count": null,
   "id": "cd915285",
   "metadata": {},
   "outputs": [],
   "source": []
  },
  {
   "cell_type": "code",
   "execution_count": null,
   "id": "82472967",
   "metadata": {},
   "outputs": [],
   "source": []
  }
 ],
 "metadata": {
  "kernelspec": {
   "display_name": "Python 3 (ipykernel)",
   "language": "python",
   "name": "python3"
  },
  "language_info": {
   "codemirror_mode": {
    "name": "ipython",
    "version": 3
   },
   "file_extension": ".py",
   "mimetype": "text/x-python",
   "name": "python",
   "nbconvert_exporter": "python",
   "pygments_lexer": "ipython3",
   "version": "3.10.12"
  }
 },
 "nbformat": 4,
 "nbformat_minor": 5
}
